{
 "cells": [
  {
   "cell_type": "code",
   "execution_count": null,
   "metadata": {},
   "outputs": [],
   "source": [
    "!pip install ahocorapy"
   ]
  },
  {
   "cell_type": "markdown",
   "metadata": {},
   "source": [
    "## Bibliotecas"
   ]
  },
  {
   "cell_type": "code",
   "execution_count": null,
   "metadata": {},
   "outputs": [],
   "source": [
    "from keras.models import Sequential\n",
    "from keras.layers import Dense, Dropout, Activation, Flatten\n",
    "from keras.utils import np_utils"
   ]
  },
  {
   "cell_type": "code",
   "execution_count": 2,
   "metadata": {},
   "outputs": [],
   "source": [
    "import urllib3\n",
    "import pandas as pd\n",
    "import numpy as np\n",
    "\n",
    "from time import sleep\n",
    "from bs4 import BeautifulSoup\n",
    "from urllib.parse import urljoin\n",
    "from ahocorapy.keywordtree import KeywordTree\n",
    "\n",
    "from selenium import webdriver\n",
    "from selenium.webdriver.chrome.options import Options\n",
    "\n",
    "options = Options()\n",
    "options.add_argument(\"--disable-notifications\")\n",
    "options.add_argument(\"--disable-popup-blocking\")\n",
    "options.add_argument(\"--disable-web-security\")\n",
    "options.add_argument(\"--headless\")\n",
    "prefs = {\"download_restrictions\": 3}\n",
    "options.add_experimental_option(\"prefs\", prefs)"
   ]
  },
  {
   "cell_type": "markdown",
   "metadata": {},
   "source": [
    "## Definição das labels e dos templates"
   ]
  },
  {
   "cell_type": "code",
   "execution_count": 3,
   "metadata": {},
   "outputs": [],
   "source": [
    "labels = ['licitacoes', 'contratos', 'pagamentos', 'despesas', 'pessoal', 'receitas']\n",
    "NUMBER_OF_LABELS = len(labels)"
   ]
  },
  {
   "cell_type": "code",
   "execution_count": 4,
   "metadata": {},
   "outputs": [],
   "source": [
    "label_to_int = lambda x: {\"licitacoes\" : 0, \"contratos\" : 1, \"pagamentos\" : 2, \"despesas\" : 3, \n",
    "                          \"pessoal\" : 4, \"receitas\" : 5}[x]"
   ]
  },
  {
   "cell_type": "code",
   "execution_count": 5,
   "metadata": {},
   "outputs": [],
   "source": [
    "int_to_label = lambda x: {0 : \"licitacoes\", 1 : \"contratos\", 2 : \"pagamentos\", 3 : \"despesas\", \n",
    "                          4 : \"pessoal\", 5 : \"receitas\"}[x]"
   ]
  },
  {
   "cell_type": "code",
   "execution_count": 6,
   "metadata": {},
   "outputs": [],
   "source": [
    "templates = ['Template 2',\n",
    "       'Portal TP',\n",
    "       'Siplanweb',\n",
    "       'Betha',\n",
    "       'Sintese e Tecnologia',\n",
    "       'ABO',\n",
    "       'PT',\n",
    "       'ADPM',\n",
    "       'Municipal Net',\n",
    "       'Portal Facil (60)',\n",
    "       'Portal Facil (46)',\n",
    "       'Memory',\n",
    "       'GRP',\n",
    "       'Template 1 (22)',\n",
    "       'Template 1 (9)']"
   ]
  },
  {
   "cell_type": "markdown",
   "metadata": {},
   "source": [
    "## Criação das Keyword Trees"
   ]
  },
  {
   "cell_type": "code",
   "execution_count": 7,
   "metadata": {},
   "outputs": [],
   "source": [
    "kwtree_url = KeywordTree(case_insensitive=True)\n",
    "\n",
    "tags_url = [\"receita\", \"licita\", \"empenh\", \"paga\", \"relat\", \"lei\", \"contrat\", \"servidor\", \"folha\", \"obra\", \n",
    "            \"repass\", \"conta\", \"concurs\", \"orcamen\", \"conselh\", \"diaria\", \"legisla\"]\n",
    "\n",
    "for tag in tags_url:\n",
    "    kwtree_url.add(tag)\n",
    "kwtree_url.finalize()"
   ]
  },
  {
   "cell_type": "code",
   "execution_count": 8,
   "metadata": {},
   "outputs": [],
   "source": [
    "kwtree_page = KeywordTree(case_insensitive=True)\n",
    "\n",
    "\n",
    "tags_page = [\"Transparência\", \"12.527/2011\", \"45.969/2012\", \"www.transparencia.mg.gov.br\", \"Lei de Acesso à Informação\", \n",
    "             \"Conselho\", \"CODEMA\", \"CMDCA\", \"F.A.Q\", \"FAQ\", \"Perguntas Frequentes\", \"Pedidos\", \"Estrutura Organizacional\", \n",
    "             \"Endereço\", \"Telefone\", \"Horário de Atendimento\", \"Conselhos Municipais\", \"Receitas\", \"Consolidado\", \"Liquida\", \n",
    "             \"Previs\", \"Arrecada\", \"Classificação\",\"Balanço\", \"Contas\", \"Meta\", \"Plano de Metas\", \"Gestão fiscal\", \n",
    "             \"Resumido de Execução\", \"Diretrizes\", \"Orçament\",  \"Pagamentos\", \"Pagar\", \"Empenhos\", \"N° de empenho\", \n",
    "             \"N° do empenho\", \"Valor\", \"Favorecido\", \"Licitaç\", \"Status\", \"Modalidade\", \"Resultado\", \"Status\",\"Contrato\", \n",
    "             \"Vigência\", \"Terceiro Setor\", \"Parcerias\", \"Repasses\", \"Data de celebração\", \"Data\", \"Conveniado\", \"Origem\", \n",
    "             \"Recurso\", \"Concurso\", \"Conselho\", \"Pensão\", \"Plano Plurianual\", \"Concurso Público\", \"Obra\", \"Situação\", \n",
    "             \"Servidor\", \"Nome\", \"Cargo\", \"Função\", \"Relatorio Mensal\", \"Despesa com Pessoal\", \"Despesas com pessoal\", \n",
    "             \"Aposentado\", \"Pensionista\", \"Diária\", \"Viagen\", \"Viagem\", \"Periodo\", \"Convênios\", \"Destino\", \"Motivo\", \n",
    "             \"Prestação\", \"Repasse\", \"Legisl\"]\n",
    "\n",
    "for tag in tags_page:\n",
    "    kwtree_page.add(tag)\n",
    "kwtree_page.finalize()"
   ]
  },
  {
   "cell_type": "markdown",
   "metadata": {},
   "source": [
    "## Definição das features de entrada do modelo"
   ]
  },
  {
   "cell_type": "code",
   "execution_count": 9,
   "metadata": {},
   "outputs": [],
   "source": [
    "#vector = templates + tags_url + tags_page\n",
    "vector = tags_url + tags_page\n",
    "NUMBER_OF_ATRIBUTES = len(vector)"
   ]
  },
  {
   "cell_type": "code",
   "execution_count": 10,
   "metadata": {},
   "outputs": [
    {
     "name": "stdout",
     "output_type": "stream",
     "text": [
      "['receita', 'licita', 'empenh', 'paga', 'relat', 'lei', 'contrat', 'servidor', 'folha', 'obra', 'repass', 'conta', 'concurs', 'orcamen', 'conselh', 'diaria', 'legisla', 'Transparência', '12.527/2011', '45.969/2012', 'www.transparencia.mg.gov.br', 'Lei de Acesso à Informação', 'Conselho', 'CODEMA', 'CMDCA', 'F.A.Q', 'FAQ', 'Perguntas Frequentes', 'Pedidos', 'Estrutura Organizacional', 'Endereço', 'Telefone', 'Horário de Atendimento', 'Conselhos Municipais', 'Receitas', 'Consolidado', 'Liquida', 'Previs', 'Arrecada', 'Classificação', 'Balanço', 'Contas', 'Meta', 'Plano de Metas', 'Gestão fiscal', 'Resumido de Execução', 'Diretrizes', 'Orçament', 'Pagamentos', 'Pagar', 'Empenhos', 'N° de empenho', 'N° do empenho', 'Valor', 'Favorecido', 'Licitaç', 'Status', 'Modalidade', 'Resultado', 'Status', 'Contrato', 'Vigência', 'Terceiro Setor', 'Parcerias', 'Repasses', 'Data de celebração', 'Data', 'Conveniado', 'Origem', 'Recurso', 'Concurso', 'Conselho', 'Pensão', 'Plano Plurianual', 'Concurso Público', 'Obra', 'Situação', 'Servidor', 'Nome', 'Cargo', 'Função', 'Relatorio Mensal', 'Despesa com Pessoal', 'Despesas com pessoal', 'Aposentado', 'Pensionista', 'Diária', 'Viagen', 'Viagem', 'Periodo', 'Convênios', 'Destino', 'Motivo', 'Prestação', 'Repasse', 'Legisl'] \n",
      " 96\n"
     ]
    }
   ],
   "source": [
    "print(vector,\"\\n\", NUMBER_OF_ATRIBUTES)"
   ]
  },
  {
   "cell_type": "markdown",
   "metadata": {},
   "source": [
    "## Funções para extração de features"
   ]
  },
  {
   "cell_type": "code",
   "execution_count": 14,
   "metadata": {},
   "outputs": [],
   "source": [
    "def findPatterns(url, text, template):\n",
    "\n",
    "    vector_results = [0] * len(vector)\n",
    "    \n",
    "    #determinando o template\n",
    "    #idx = vector.index(template)\n",
    "    #vector_results[idx] = 1\n",
    "        \n",
    "    #resultados do texto da url\n",
    "    results_url = kwtree_url.search_all(url)\n",
    "    results_url = [result[0] for result in results_url]\n",
    "    results_unique_url = set(results_url)\n",
    "    \n",
    "    for result in results_unique_url:\n",
    "        idx = vector.index(result)\n",
    "        num_results = results_url.count(result)\n",
    "        vector_results[idx] = num_results*100\n",
    "        \n",
    "    #resultados do texto da pagina\n",
    "    results_page = kwtree_page.search_all(text)\n",
    "    results_page = [result[0] for result in results_page]\n",
    "    results_unique_page = set(results_page)\n",
    "\n",
    "    for result in results_unique_page:\n",
    "        idx = vector.index(result)\n",
    "        num_results = results_page.count(result)\n",
    "        vector_results[idx] = num_results\n",
    "        \n",
    "\n",
    "    return vector_results"
   ]
  },
  {
   "cell_type": "code",
   "execution_count": 15,
   "metadata": {},
   "outputs": [],
   "source": [
    "def getText(url):\n",
    "\n",
    "    urllib3.disable_warnings(urllib3.exceptions.InsecureRequestWarning)\n",
    "    driver = webdriver.Chrome(options=options)\n",
    "    driver.get(url)\n",
    "    sleep(2)\n",
    "    \n",
    "    try:\n",
    "        soup = BeautifulSoup(driver.page_source, \"lxml\")\n",
    "        \n",
    "        for tags in soup(['script', 'style']):\n",
    "            tags.decompose\n",
    "            \n",
    "        driver.close()\n",
    "        \n",
    "        return ' '. join(soup.stripped_strings)\n",
    "        \n",
    "    except:\n",
    "        print(\"Erro ao tentar abrir a pagina: \" + url)"
   ]
  },
  {
   "cell_type": "code",
   "execution_count": 16,
   "metadata": {},
   "outputs": [],
   "source": [
    "def preProcessing(url, template):\n",
    "    \n",
    "    text = getText(url)\n",
    "    vector = findPatterns(url, text, template)\n",
    "    \n",
    "    return vector"
   ]
  },
  {
   "cell_type": "code",
   "execution_count": null,
   "metadata": {},
   "outputs": [],
   "source": [
    "preProcessing(\"https://www.municipalnet.com.br/index/?apl=contas-publicas?uid=congonhal\", \"Municipal Net\")"
   ]
  },
  {
   "cell_type": "markdown",
   "metadata": {},
   "source": [
    "## Criação do dataset de treinamento"
   ]
  },
  {
   "cell_type": "code",
   "execution_count": 18,
   "metadata": {},
   "outputs": [],
   "source": [
    "dataset = [['https://pm-aracitaba.publicacao.siplanweb.com.br/licitacoes/painel','licitacoes','Siplanweb'],\n",
    " ['https://pm-aracitaba.publicacao.siplanweb.com.br/licitacoes/pregao-presencial','licitacoes','Siplanweb'],\n",
    " ['https://pm-aracitaba.publicacao.siplanweb.com.br/contratos','contratos','Siplanweb'],\n",
    " ['https://pm-cruzilia.publicacao.siplanweb.com.br/contratos', 'contratos', 'Siplanweb'],\n",
    " ['https://pm-aracitaba.publicacao.siplanweb.com.br/restos-pagar', 'pagamentos', 'Siplanweb'],\n",
    " ['https://pm-cruzilia.publicacao.siplanweb.com.br/restos-pagar','pagamentos','Siplanweb'],\n",
    " ['https://pm-aracitaba.publicacao.siplanweb.com.br/contas-publicas/documento/54','despesas','Siplanweb'],\n",
    " ['https://pm-aracitaba.publicacao.siplanweb.com.br/contas-publicas/documento/30','despesas','Siplanweb'],\n",
    " ['https://pm-aracitaba.publicacao.siplanweb.com.br/pessoal','pessoal','Siplanweb'],\n",
    " ['https://pm-cruzilia.publicacao.siplanweb.com.br/pessoal','pessoal','Siplanweb'],\n",
    " ['https://pm-cruzilia.publicacao.siplanweb.com.br/contas-receitas','receitas','Siplanweb'],\n",
    " ['https://pm-blonga.publicacao.siplanweb.com.br/contas-receitas','receitas','Siplanweb'],\n",
    " ['http://cidadesmg.com.br/portaltransparencia/faces/user/compra/FLicitacao.xhtml?Param=PmIbiai','licitacoes','Sintese e Tecnologia'],\n",
    " ['http://cidadesmg.com.br/portaltransparencia/faces/user/compra/FLicitacao.xhtml?Param=Turmalina','licitacoes','Sintese e Tecnologia'],\n",
    " ['http://cidadesmg.com.br/portaltransparencia/faces/user/compra/FContrato.xhtml?Param=Turmalina','contratos','Sintese e Tecnologia'],\n",
    " ['http://cidadesmg.com.br/portaltransparencia/faces/user/compra/FContrato.xhtml?Param=PmIbiai','contratos','Sintese e Tecnologia'],\n",
    " ['http://cidadesmg.com.br/portaltransparencia/faces/user/despesa/FPagamentosRealizados.xhtml?Param=PmIbiai','pagamentos','Sintese e Tecnologia'],\n",
    " ['http://cidadesmg.com.br/portaltransparencia/faces/user/despesa/FPagamentosRealizados.xhtml?Param=Turmalina','pagamentos','Sintese e Tecnologia'],\n",
    " ['http://cidadesmg.com.br/portaltransparencia/faces/user/pcontas/FPContas.xhtml?Param=PmIbiai','despesas','Sintese e Tecnologia'],\n",
    " ['http://cidadesmg.com.br/portaltransparencia/faces/user/pcontas/FPContas.xhtml?Param=Turmalina','despesas', 'Sintese e Tecnologia'],\n",
    " ['http://cidadesmg.com.br/portaltransparencia/faces/user/folha/FFolhaPagamento.xhtml?Param=PmIbiai','pessoal','Sintese e Tecnologia'],\n",
    " ['http://cidadesmg.com.br/portaltransparencia/faces/user/folha/FFolhaPagamento.xhtml?Param=Turmalina','pessoal','Sintese e Tecnologia'],\n",
    " ['http://cidadesmg.com.br/portaltransparencia/faces/user/receita/FReceitasPrevisao.xhtml?Param=PmIbiai','receitas',  'Sintese e Tecnologia'],\n",
    " ['http://cidadesmg.com.br/portaltransparencia/faces/user/receita/FReceitasArrecadacao.xhtml?Param=Turmalina','receitas','Sintese e Tecnologia'],\n",
    " ['http://transparencia.virginia.mg.gov.br/Licitacao', 'licitacoes', 'ABO'],\n",
    " ['http://esic.vespasiano.mg.gov.br/Licitacao', 'licitacoes', 'ABO'],\n",
    " ['http://transparencia.virginia.mg.gov.br/Contrato', 'contratos', 'ABO'],\n",
    " ['http://esic.vespasiano.mg.gov.br/Contrato', 'contratos', 'ABO'],\n",
    " ['http://esic.vespasiano.mg.gov.br/Despesa', 'despesas', 'ABO'],\n",
    " ['http://transparencia.virginia.mg.gov.br/Despesa', 'despesas', 'ABO'],\n",
    " ['http://esic.vespasiano.mg.gov.br/FolhaPagamento', 'pessoal', 'ABO'],\n",
    " ['http://esic.vespasiano.mg.gov.br/FolhaPagamento', 'pessoal', 'ABO'],\n",
    " ['http://esic.vespasiano.mg.gov.br/Receita', 'receitas', 'ABO'],\n",
    " ['http://transparencia.virginia.mg.gov.br/Receita', 'receitas', 'ABO'],\n",
    " ['https://freigaspar.mg.gov.br/transparencia/licitacoes/detalhes/2021/12/110','licitacoes','Template 2'],\n",
    " ['https://freigaspar.mg.gov.br/transparencia/licitacoes','licitacoes','Template 2'],\n",
    " ['https://freigaspar.mg.gov.br/transparencia/pagamentos/detalhes/2022/04/119','pagamentos','Template 2'],\n",
    " ['https://freigaspar.mg.gov.br/transparencia/pagamentos','pagamentos','Template 2'],\n",
    " ['http://www.adpmnet.com.br/index.php?option=com_contpubl&submenu=0&cnpj=18125146000129&idreg=&tpformtab=jos_coputctr&tpformpdf=6&tpform=2&idorg=104&dsorg=Prefeitura%20Municipal%20de%20Buritis&dsufe=Estado%20de%20Minas%20Gerais&brasao=P310930.GIF&titulo=Contratos%20e%20seus%20Aditivos&idtpc=0&nome_mat=1&nao_proventos=0&nao_descontos=0','contratos', 'ADPM'],\n",
    " ['http://www.adpmnet.com.br/index.php?option=com_contpubl&submenu=0&cnpj=18125146000129&idreg=&tpformtab=jos_coputctr&tpformpdf=6&tpform=2&idorg=104&dsorg=Prefeitura%20Municipal%20de%20Serro&dsufe=Estado%20de%20Minas%20Gerais&brasao=P310930.GIF&titulo=Contratos%20e%20seus%20Aditivos&idtpc=0&nome_mat=1&nao_proventos=0&nao_descontos=0','contratos','ADPM'],\n",
    " ['http://www.adpmnet.com.br/index.php?option=com_contpubl&submenu=1&brasao=P310930.GIF&dsorg=Prefeitura%20Municipal%20de%20Buritis&cnpj=18125146000129&tpformpdf=70&ano=2022&mes=4&idorg=104&titulo=Pagamentos%20de%20Restos%20a%20Pagar&dsufe=Estado%20de%20Minas%20Gerais&nome_mat=1&nao_proventos=0&nao_descontos=0&xts=0','pagamentos', 'ADPM'],\n",
    " ['http://www.adpmnet.com.br/index.php?option=com_contpubl&submenu=1&brasao=P310930.GIF&dsorg=Prefeitura%20Municipal%20de%20Buritis&cnpj=18125146000129&tpformpdf=70&ano=2020&mes=4&idorg=104&titulo=Pagamentos%20de%20Restos%20a%20Pagar&dsufe=Estado%20de%20Minas%20Gerais&nome_mat=1&nao_proventos=0&nao_descontos=0&xts=0','pagamentos','ADPM'],\n",
    " ['http://www.adpmnet.com.br/index.php?option=com_contpubl&xts=0&idorg=104&ano=2020&mes=3&dsorg=Prefeitura%20Municipal%20de%20Buritis&dsufe=Estado%20de%20Minas%20Gerais&brasao=P310930.GIF&titulo=Despesas&tpformpdf=55&contraste=true','despesas', 'ADPM'],\n",
    " ['http://www.adpmnet.com.br/index.php?option=com_contpubl&xts=0&idorg=104&ano=2021&mes=7&dsorg=Prefeitura%20Municipal%20de%20Buritis&dsufe=Estado%20de%20Minas%20Gerais&brasao=P310930.GIF&titulo=Despesas&tpformpdf=55&contraste=true','despesas','ADPM'],\n",
    " ['http://www.adpmnet.com.br/index.php?option=com_contpubl&submenu=1&brasao=P310930.GIF&dsorg=Prefeitura%20Municipal%20de%20Buritis&cnpj=18125146000129&tpformpdf=51&ano=2022&mes=2&idorg=104&titulo=Remunera%C3%A7%C3%A3o%20Mensal%20dos%20Servidores%20P%C3%BAblicos&dsufe=Estado%20de%20Minas%20Gerais&nome_mat=1&nao_proventos=0&nao_descontos=0&xts=0','pessoal','ADPM'],\n",
    " ['http://www.adpmnet.com.br/index.php?option=com_contpubl&submenu=1&brasao=P310930.GIF&dsorg=Prefeitura%20Municipal%20de%20Buritis&cnpj=18125146000129&tpformpdf=51&ano=2017&mes=10&idorg=104&titulo=Remunera%C3%A7%C3%A3o%20Mensal%20dos%20Servidores%20P%C3%BAblicos&dsufe=Estado%20de%20Minas%20Gerais&nome_mat=1&nao_proventos=0&nao_descontos=0&xts=0','pessoal','ADPM'],\n",
    " ['http://www.adpmnet.com.br/index.php?option=com_contpubl&submenu=1&brasao=P310930.GIF&dsorg=Prefeitura%20Municipal%20de%20Buritis&cnpj=18125146000129&tpformpdf=49&ano=2022&mes=1&idorg=104&titulo=Receitas&dsufe=Estado%20de%20Minas%20Gerais&nome_mat=1&nao_proventos=0&nao_descontos=0&xts=0','receitas', 'ADPM'],\n",
    " ['http://www.adpmnet.com.br/index.php?option=com_contpubl&submenu=1&brasao=P310930.GIF&dsorg=Prefeitura%20Municipal%20de%20Buritis&cnpj=18125146000129&tpformpdf=49&ano=2020&mes=11&idorg=104&titulo=Receitas&dsufe=Estado%20de%20Minas%20Gerais&nome_mat=1&nao_proventos=0&nao_descontos=0&xts=0','receitas','ADPM']]"
   ]
  },
  {
   "cell_type": "code",
   "execution_count": 20,
   "metadata": {},
   "outputs": [],
   "source": [
    "x_train = np.array([preProcessing(instance[0], instance[2]) for instance in dataset])"
   ]
  },
  {
   "cell_type": "code",
   "execution_count": 21,
   "metadata": {},
   "outputs": [
    {
     "data": {
      "text/plain": [
       "array([[1., 0., 0., 0., 0., 0.],\n",
       "       [1., 0., 0., 0., 0., 0.],\n",
       "       [0., 1., 0., 0., 0., 0.],\n",
       "       [0., 1., 0., 0., 0., 0.],\n",
       "       [0., 0., 1., 0., 0., 0.],\n",
       "       [0., 0., 1., 0., 0., 0.],\n",
       "       [0., 0., 0., 1., 0., 0.],\n",
       "       [0., 0., 0., 1., 0., 0.],\n",
       "       [0., 0., 0., 0., 1., 0.],\n",
       "       [0., 0., 0., 0., 1., 0.],\n",
       "       [0., 0., 0., 0., 0., 1.],\n",
       "       [0., 0., 0., 0., 0., 1.],\n",
       "       [1., 0., 0., 0., 0., 0.],\n",
       "       [1., 0., 0., 0., 0., 0.],\n",
       "       [0., 1., 0., 0., 0., 0.],\n",
       "       [0., 1., 0., 0., 0., 0.],\n",
       "       [0., 0., 1., 0., 0., 0.],\n",
       "       [0., 0., 1., 0., 0., 0.],\n",
       "       [0., 0., 0., 1., 0., 0.],\n",
       "       [0., 0., 0., 1., 0., 0.],\n",
       "       [0., 0., 0., 0., 1., 0.],\n",
       "       [0., 0., 0., 0., 1., 0.],\n",
       "       [0., 0., 0., 0., 0., 1.],\n",
       "       [0., 0., 0., 0., 0., 1.],\n",
       "       [1., 0., 0., 0., 0., 0.],\n",
       "       [1., 0., 0., 0., 0., 0.],\n",
       "       [0., 1., 0., 0., 0., 0.],\n",
       "       [0., 1., 0., 0., 0., 0.],\n",
       "       [0., 0., 0., 1., 0., 0.],\n",
       "       [0., 0., 0., 1., 0., 0.],\n",
       "       [0., 0., 0., 0., 1., 0.],\n",
       "       [0., 0., 0., 0., 1., 0.],\n",
       "       [0., 0., 0., 0., 0., 1.],\n",
       "       [0., 0., 0., 0., 0., 1.],\n",
       "       [1., 0., 0., 0., 0., 0.],\n",
       "       [1., 0., 0., 0., 0., 0.],\n",
       "       [0., 0., 1., 0., 0., 0.],\n",
       "       [0., 0., 1., 0., 0., 0.],\n",
       "       [0., 1., 0., 0., 0., 0.],\n",
       "       [0., 1., 0., 0., 0., 0.],\n",
       "       [0., 0., 1., 0., 0., 0.],\n",
       "       [0., 0., 1., 0., 0., 0.],\n",
       "       [0., 0., 0., 1., 0., 0.],\n",
       "       [0., 0., 0., 1., 0., 0.],\n",
       "       [0., 0., 0., 0., 1., 0.],\n",
       "       [0., 0., 0., 0., 1., 0.],\n",
       "       [0., 0., 0., 0., 0., 1.],\n",
       "       [0., 0., 0., 0., 0., 1.]], dtype=float32)"
      ]
     },
     "execution_count": 21,
     "metadata": {},
     "output_type": "execute_result"
    }
   ],
   "source": [
    "y_train_int = [label_to_int(instance[1]) for instance in dataset]\n",
    "y_train = np_utils.to_categorical(y_train_int, NUMBER_OF_LABELS)\n",
    "y_train"
   ]
  },
  {
   "cell_type": "markdown",
   "metadata": {},
   "source": [
    "## Criação do modelo"
   ]
  },
  {
   "cell_type": "code",
   "execution_count": 22,
   "metadata": {},
   "outputs": [],
   "source": [
    "def createModel():\n",
    "\n",
    "    # Sequential layer\n",
    "    model = Sequential()\n",
    "\n",
    "    # fully connected layer\n",
    "    model.add(Dense(55, activation='relu', input_shape=(NUMBER_OF_ATRIBUTES,)))\n",
    "    model.add(Dense(NUMBER_OF_LABELS, activation='softmax'))\n",
    "\n",
    "    model.summary()\n",
    "    model.compile(loss='categorical_crossentropy', optimizer='adam', metrics=['accuracy'])\n",
    "    \n",
    "    return model\n"
   ]
  },
  {
   "cell_type": "code",
   "execution_count": 23,
   "metadata": {},
   "outputs": [
    {
     "name": "stderr",
     "output_type": "stream",
     "text": [
      "2022-08-18 01:24:43.045667: W tensorflow/stream_executor/platform/default/dso_loader.cc:64] Could not load dynamic library 'libcuda.so.1'; dlerror: libcuda.so.1: cannot open shared object file: No such file or directory\n",
      "2022-08-18 01:24:43.063679: W tensorflow/stream_executor/cuda/cuda_driver.cc:269] failed call to cuInit: UNKNOWN ERROR (303)\n",
      "2022-08-18 01:24:43.068680: I tensorflow/stream_executor/cuda/cuda_diagnostics.cc:156] kernel driver does not appear to be running on this host (arthur): /proc/driver/nvidia/version does not exist\n",
      "2022-08-18 01:24:43.148152: I tensorflow/core/platform/cpu_feature_guard.cc:193] This TensorFlow binary is optimized with oneAPI Deep Neural Network Library (oneDNN) to use the following CPU instructions in performance-critical operations:  AVX2 FMA\n",
      "To enable them in other operations, rebuild TensorFlow with the appropriate compiler flags.\n"
     ]
    },
    {
     "name": "stdout",
     "output_type": "stream",
     "text": [
      "Model: \"sequential\"\n",
      "_________________________________________________________________\n",
      " Layer (type)                Output Shape              Param #   \n",
      "=================================================================\n",
      " dense (Dense)               (None, 55)                5335      \n",
      "                                                                 \n",
      " dense_1 (Dense)             (None, 6)                 336       \n",
      "                                                                 \n",
      "=================================================================\n",
      "Total params: 5,671\n",
      "Trainable params: 5,671\n",
      "Non-trainable params: 0\n",
      "_________________________________________________________________\n"
     ]
    }
   ],
   "source": [
    "model = createModel()"
   ]
  },
  {
   "cell_type": "code",
   "execution_count": 24,
   "metadata": {},
   "outputs": [
    {
     "name": "stdout",
     "output_type": "stream",
     "text": [
      "Epoch 1/25\n",
      "3/3 [==============================] - 1s 11ms/step - loss: 23.3162 - accuracy: 0.2083\n",
      "Epoch 2/25\n",
      "3/3 [==============================] - 0s 5ms/step - loss: 17.0858 - accuracy: 0.2500\n",
      "Epoch 3/25\n",
      "3/3 [==============================] - 0s 5ms/step - loss: 10.8149 - accuracy: 0.3125\n",
      "Epoch 4/25\n",
      "3/3 [==============================] - 0s 5ms/step - loss: 6.5188 - accuracy: 0.3958\n",
      "Epoch 5/25\n",
      "3/3 [==============================] - 0s 6ms/step - loss: 4.6750 - accuracy: 0.5833\n",
      "Epoch 6/25\n",
      "3/3 [==============================] - 0s 6ms/step - loss: 3.7683 - accuracy: 0.6875\n",
      "Epoch 7/25\n",
      "3/3 [==============================] - 0s 6ms/step - loss: 2.8864 - accuracy: 0.6875\n",
      "Epoch 8/25\n",
      "3/3 [==============================] - 0s 6ms/step - loss: 2.0602 - accuracy: 0.7292\n",
      "Epoch 9/25\n",
      "3/3 [==============================] - 0s 6ms/step - loss: 1.4583 - accuracy: 0.7500\n",
      "Epoch 10/25\n",
      "3/3 [==============================] - 0s 5ms/step - loss: 0.9694 - accuracy: 0.8750\n",
      "Epoch 11/25\n",
      "3/3 [==============================] - 0s 6ms/step - loss: 0.6702 - accuracy: 0.8958\n",
      "Epoch 12/25\n",
      "3/3 [==============================] - 0s 6ms/step - loss: 0.4353 - accuracy: 0.9375\n",
      "Epoch 13/25\n",
      "3/3 [==============================] - 0s 6ms/step - loss: 0.2870 - accuracy: 0.9583\n",
      "Epoch 14/25\n",
      "3/3 [==============================] - 0s 5ms/step - loss: 0.1706 - accuracy: 0.9583\n",
      "Epoch 15/25\n",
      "3/3 [==============================] - 0s 6ms/step - loss: 0.0591 - accuracy: 1.0000\n",
      "Epoch 16/25\n",
      "3/3 [==============================] - 0s 6ms/step - loss: 0.0355 - accuracy: 1.0000\n",
      "Epoch 17/25\n",
      "3/3 [==============================] - 0s 5ms/step - loss: 0.0309 - accuracy: 1.0000\n",
      "Epoch 18/25\n",
      "3/3 [==============================] - 0s 6ms/step - loss: 0.0283 - accuracy: 1.0000\n",
      "Epoch 19/25\n",
      "3/3 [==============================] - 0s 7ms/step - loss: 0.0258 - accuracy: 1.0000\n",
      "Epoch 20/25\n",
      "3/3 [==============================] - 0s 6ms/step - loss: 0.0237 - accuracy: 1.0000\n",
      "Epoch 21/25\n",
      "3/3 [==============================] - 0s 7ms/step - loss: 0.0223 - accuracy: 1.0000\n",
      "Epoch 22/25\n",
      "3/3 [==============================] - 0s 5ms/step - loss: 0.0203 - accuracy: 1.0000\n",
      "Epoch 23/25\n",
      "3/3 [==============================] - 0s 6ms/step - loss: 0.0192 - accuracy: 1.0000\n",
      "Epoch 24/25\n",
      "3/3 [==============================] - 0s 5ms/step - loss: 0.0180 - accuracy: 1.0000\n",
      "Epoch 25/25\n",
      "3/3 [==============================] - 0s 5ms/step - loss: 0.0168 - accuracy: 1.0000\n"
     ]
    }
   ],
   "source": [
    "response = model.fit(x_train, y_train, batch_size=16, epochs=25, verbose=1)"
   ]
  },
  {
   "cell_type": "markdown",
   "metadata": {},
   "source": [
    "## Testes de classificação"
   ]
  },
  {
   "cell_type": "code",
   "execution_count": 25,
   "metadata": {},
   "outputs": [],
   "source": [
    "def classificarPagina(url, template):\n",
    "    \n",
    "    v1 = np.array([preProcessing(url, template)])\n",
    "    probs = model.predict(v1)     \n",
    "    idx = np.argmax(probs)\n",
    "                   \n",
    "    return int_to_label(idx)"
   ]
  },
  {
   "cell_type": "code",
   "execution_count": 27,
   "metadata": {},
   "outputs": [
    {
     "name": "stdout",
     "output_type": "stream",
     "text": [
      "1/1 [==============================] - 0s 140ms/step\n"
     ]
    },
    {
     "data": {
      "text/plain": [
       "'despesas'"
      ]
     },
     "execution_count": 27,
     "metadata": {},
     "output_type": "execute_result"
    }
   ],
   "source": [
    "classificarPagina(\"https://www.municipalnet.com.br/index/?apl=contas-publicas?uid=congonhal\", \"Municipal Net\")"
   ]
  },
  {
   "cell_type": "code",
   "execution_count": 28,
   "metadata": {},
   "outputs": [
    {
     "name": "stdout",
     "output_type": "stream",
     "text": [
      "1/1 [==============================] - 0s 27ms/step\n"
     ]
    },
    {
     "data": {
      "text/plain": [
       "'licitacoes'"
      ]
     },
     "execution_count": 28,
     "metadata": {},
     "output_type": "execute_result"
    }
   ],
   "source": [
    "classificarPagina(\"https://www.municipalnet.com.br/tablicitacoes/?uid=albertina\", \"Municipal Net\")"
   ]
  },
  {
   "cell_type": "code",
   "execution_count": 29,
   "metadata": {},
   "outputs": [
    {
     "name": "stdout",
     "output_type": "stream",
     "text": [
      "1/1 [==============================] - 0s 32ms/step\n"
     ]
    },
    {
     "data": {
      "text/plain": [
       "'despesas'"
      ]
     },
     "execution_count": 29,
     "metadata": {},
     "output_type": "execute_result"
    }
   ],
   "source": [
    "classificarPagina(\"https://pm-fervedouro.publicacao.siplanweb.com.br/contas-publicas/documento/105\", \"Siplanweb\")"
   ]
  },
  {
   "cell_type": "code",
   "execution_count": 30,
   "metadata": {},
   "outputs": [
    {
     "name": "stdout",
     "output_type": "stream",
     "text": [
      "1/1 [==============================] - 0s 26ms/step\n"
     ]
    },
    {
     "data": {
      "text/plain": [
       "'pagamentos'"
      ]
     },
     "execution_count": 30,
     "metadata": {},
     "output_type": "execute_result"
    }
   ],
   "source": [
    "classificarPagina(\"https://pm-fervedouro.publicacao.siplanweb.com.br/restos-pagar\", \"Siplanweb\")"
   ]
  },
  {
   "cell_type": "code",
   "execution_count": 31,
   "metadata": {},
   "outputs": [
    {
     "name": "stdout",
     "output_type": "stream",
     "text": [
      "1/1 [==============================] - 0s 25ms/step\n"
     ]
    },
    {
     "data": {
      "text/plain": [
       "'pessoal'"
      ]
     },
     "execution_count": 31,
     "metadata": {},
     "output_type": "execute_result"
    }
   ],
   "source": [
    "classificarPagina(\"https://transparencia.teofilootoni.mg.gov.br/portalcidadao/#78c3e513dd43cb27d8a3e2f376196ffc656d7ea577b2c6fb35304957eca724c8880%C5%A6081606106eb8ab9bda7122e2f6d1dafa52a9147ca20f98f2111ce7722db81eb4b91157d05b0213d61a5f938482f6088effca1e34709dbe4ab78fdfc1757d92bb283bc08ad0ef86196179064665fa8c82e539fddca1396f40ae30893fb3031f99cc1818218c9ff2c4276e071ecb24b9b748f695e4794e0afb3fc709ec1cd2b7dcd635e57a223e1b5b5974c9de634b725378509390a6e7b8fce5f80469cd5eab92c1c3b3cc71b58774ff8c9155093fc03492de9b609a05\", \"GRP\")"
   ]
  },
  {
   "cell_type": "code",
   "execution_count": 32,
   "metadata": {},
   "outputs": [
    {
     "name": "stdout",
     "output_type": "stream",
     "text": [
      "1/1 [==============================] - 0s 41ms/step\n"
     ]
    },
    {
     "data": {
      "text/plain": [
       "'pessoal'"
      ]
     },
     "execution_count": 32,
     "metadata": {},
     "output_type": "execute_result"
    }
   ],
   "source": [
    "classificarPagina(\"https://www.municipalnet.com.br/despesa_pessoal/\", \"Municipal Net\")"
   ]
  },
  {
   "cell_type": "code",
   "execution_count": 33,
   "metadata": {},
   "outputs": [
    {
     "name": "stdout",
     "output_type": "stream",
     "text": [
      "1/1 [==============================] - 0s 25ms/step\n"
     ]
    },
    {
     "data": {
      "text/plain": [
       "'pessoal'"
      ]
     },
     "execution_count": 33,
     "metadata": {},
     "output_type": "execute_result"
    }
   ],
   "source": [
    "classificarPagina(\"https://www.municipalnet.com.br/folhadepagamento/\", \"Municipal Net\")"
   ]
  },
  {
   "cell_type": "code",
   "execution_count": 34,
   "metadata": {},
   "outputs": [
    {
     "name": "stdout",
     "output_type": "stream",
     "text": [
      "1/1 [==============================] - 0s 27ms/step\n"
     ]
    },
    {
     "data": {
      "text/plain": [
       "'contratos'"
      ]
     },
     "execution_count": 34,
     "metadata": {},
     "output_type": "execute_result"
    }
   ],
   "source": [
    "classificarPagina(\"http://servicos.betim.mg.gov.br/appsgi/servlet/wmportaltranspsemca?..%2F..%2Fappares%2Fservlet%2Fwmcontratotransparencia\", \"Municipal Net\")"
   ]
  }
 ],
 "metadata": {
  "kernelspec": {
   "display_name": "Python 3 (ipykernel)",
   "language": "python",
   "name": "python3"
  },
  "language_info": {
   "codemirror_mode": {
    "name": "ipython",
    "version": 3
   },
   "file_extension": ".py",
   "mimetype": "text/x-python",
   "name": "python",
   "nbconvert_exporter": "python",
   "pygments_lexer": "ipython3",
   "version": "3.12.3"
  }
 },
 "nbformat": 4,
 "nbformat_minor": 4
}
