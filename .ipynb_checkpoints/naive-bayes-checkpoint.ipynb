{
 "cells": [
  {
   "cell_type": "markdown",
   "metadata": {},
   "source": [
    "## Bibliotecas"
   ]
  },
  {
   "cell_type": "code",
   "execution_count": 1,
   "metadata": {},
   "outputs": [],
   "source": [
    "from bs4 import BeautifulSoup\n",
    "from urllib.parse import urljoin\n",
    "from urllib3.exceptions import *\n",
    "import urllib3\n",
    "import nltk\n",
    "import requests"
   ]
  },
  {
   "cell_type": "markdown",
   "metadata": {},
   "source": [
    "## Bases de dados e stopwords"
   ]
  },
  {
   "cell_type": "code",
   "execution_count": 2,
   "metadata": {},
   "outputs": [],
   "source": [
    "#nltk.download()"
   ]
  },
  {
   "cell_type": "code",
   "execution_count": 4,
   "metadata": {},
   "outputs": [],
   "source": [
    "base = [('https://pm-aracitaba.publicacao.siplanweb.com.br/licitacoes/painel','licitacoes'),\n",
    "        ('https://pm-aracitaba.publicacao.siplanweb.com.br/licitacoes/pregao-presencial','licitacoes'),\n",
    "        ('https://pm-aracitaba.publicacao.siplanweb.com.br/contratos','contratos'),\n",
    "        ('https://pm-cruzilia.publicacao.siplanweb.com.br/contratos','contratos'),\n",
    "        ('https://pm-aracitaba.publicacao.siplanweb.com.br/restos-pagar','pagamentos'),\n",
    "        ('https://pm-cruzilia.publicacao.siplanweb.com.br/restos-pagar','pagamentos'),\n",
    "        ('https://pm-aracitaba.publicacao.siplanweb.com.br/contas-publicas/documento/54', 'despesas'),\n",
    "        ('https://pm-aracitaba.publicacao.siplanweb.com.br/contas-publicas/documento/30', 'despesas'),\n",
    "        ('https://pm-aracitaba.publicacao.siplanweb.com.br/pessoal', 'pessoal'),\n",
    "        ('https://pm-cruzilia.publicacao.siplanweb.com.br/pessoal', 'pessoal'),\n",
    "        ('https://pm-cruzilia.publicacao.siplanweb.com.br/contas-receitas', 'receitas'),\n",
    "        ('https://pm-blonga.publicacao.siplanweb.com.br/contas-receitas', 'receitas'),\n",
    "           \n",
    "        ('http://cidadesmg.com.br/portaltransparencia/faces/user/compra/FLicitacao.xhtml?Param=PmIbiai', 'licitacoes'),\n",
    "        ('http://cidadesmg.com.br/portaltransparencia/faces/user/compra/FLicitacao.xhtml?Param=Turmalina', 'licitacoes'),\n",
    "        ('http://cidadesmg.com.br/portaltransparencia/faces/user/compra/FContrato.xhtml?Param=Turmalina', 'contratos'),\n",
    "        ('http://cidadesmg.com.br/portaltransparencia/faces/user/compra/FContrato.xhtml?Param=PmIbiai', 'contratos'),\n",
    "        ('http://cidadesmg.com.br/portaltransparencia/faces/user/despesa/FPagamentosRealizados.xhtml?Param=PmIbiai', 'pagamentos'),\n",
    "        ('http://cidadesmg.com.br/portaltransparencia/faces/user/despesa/FPagamentosRealizados.xhtml?Param=Turmalina', 'pagamentos'),\n",
    "        ('http://cidadesmg.com.br/portaltransparencia/faces/user/pcontas/FPContas.xhtml?Param=PmIbiai', 'despesas'),\n",
    "        ('http://cidadesmg.com.br/portaltransparencia/faces/user/pcontas/FPContas.xhtml?Param=Turmalina', 'despesas'),\n",
    "        ('http://cidadesmg.com.br/portaltransparencia/faces/user/folha/FFolhaPagamento.xhtml?Param=PmIbiai', 'pessoal'),\n",
    "        ('http://cidadesmg.com.br/portaltransparencia/faces/user/folha/FFolhaPagamento.xhtml?Param=Turmalina', 'pessoal'),\n",
    "        ('http://cidadesmg.com.br/portaltransparencia/faces/user/receita/FReceitasPrevisao.xhtml?Param=PmIbiai', 'receitas'),\n",
    "        ('http://cidadesmg.com.br/portaltransparencia/faces/user/receita/FReceitasArrecadacao.xhtml?Param=Turmalina', 'receitas'),\n",
    "        \n",
    "        ('http://transparencia.virginia.mg.gov.br/Licitacao', 'licitacoes'),\n",
    "        ('http://esic.vespasiano.mg.gov.br/Licitacao', 'licitacoes'),\n",
    "        ('http://transparencia.virginia.mg.gov.br/Contrato', 'contratos'),\n",
    "        ('http://esic.vespasiano.mg.gov.br/Contrato', 'contratos'),\n",
    "        \n",
    "        ('http://www.adpmnet.com.br/index.php?option=com_contpubl&submenu=1&brasao=P310930.GIF&dsorg=Prefeitura%20Municipal%20de%20Buritis&cnpj=18125146000129&tpformpdf=70&ano=2022&mes=4&idorg=104&titulo=Pagamentos%20de%20Restos%20a%20Pagar&dsufe=Estado%20de%20Minas%20Gerais&nome_mat=1&nao_proventos=0&nao_descontos=0&xts=0', 'pagamentos'),\n",
    "        ('http://www.adpmnet.com.br/index.php?option=com_contpubl&submenu=1&brasao=P310930.GIF&dsorg=Prefeitura%20Municipal%20de%20Buritis&cnpj=18125146000129&tpformpdf=70&ano=2020&mes=4&idorg=104&titulo=Pagamentos%20de%20Restos%20a%20Pagar&dsufe=Estado%20de%20Minas%20Gerais&nome_mat=1&nao_proventos=0&nao_descontos=0&xts=0', 'pagamentos'),\n",
    "        ('http://www.adpmnet.com.br/index.php?option=com_contpubl&xts=0&idorg=104&ano=2020&mes=3&dsorg=Prefeitura%20Municipal%20de%20Buritis&dsufe=Estado%20de%20Minas%20Gerais&brasao=P310930.GIF&titulo=Despesas&tpformpdf=55&contraste=true', 'despesas'),\n",
    "        ('http://www.adpmnet.com.br/index.php?option=com_contpubl&xts=0&idorg=104&ano=2021&mes=7&dsorg=Prefeitura%20Municipal%20de%20Buritis&dsufe=Estado%20de%20Minas%20Gerais&brasao=P310930.GIF&titulo=Despesas&tpformpdf=55&contraste=true', 'despesas'),\n",
    "        ('http://www.adpmnet.com.br/index.php?option=com_contpubl&submenu=1&brasao=P310930.GIF&dsorg=Prefeitura%20Municipal%20de%20Buritis&cnpj=18125146000129&tpformpdf=51&ano=2022&mes=2&idorg=104&titulo=Remunera%C3%A7%C3%A3o%20Mensal%20dos%20Servidores%20P%C3%BAblicos&dsufe=Estado%20de%20Minas%20Gerais&nome_mat=1&nao_proventos=0&nao_descontos=0&xts=0', 'pessoal'),\n",
    "        ('http://www.adpmnet.com.br/index.php?option=com_contpubl&submenu=1&brasao=P310930.GIF&dsorg=Prefeitura%20Municipal%20de%20Buritis&cnpj=18125146000129&tpformpdf=51&ano=2017&mes=10&idorg=104&titulo=Remunera%C3%A7%C3%A3o%20Mensal%20dos%20Servidores%20P%C3%BAblicos&dsufe=Estado%20de%20Minas%20Gerais&nome_mat=1&nao_proventos=0&nao_descontos=0&xts=0', 'pessoal'),\n",
    "        ('http://www.adpmnet.com.br/index.php?option=com_contpubl&submenu=1&brasao=P310930.GIF&dsorg=Prefeitura%20Municipal%20de%20Buritis&cnpj=18125146000129&tpformpdf=49&ano=2022&mes=1&idorg=104&titulo=Receitas&dsufe=Estado%20de%20Minas%20Gerais&nome_mat=1&nao_proventos=0&nao_descontos=0&xts=0', 'receitas'),\n",
    "        ('http://www.adpmnet.com.br/index.php?option=com_contpubl&submenu=1&brasao=P310930.GIF&dsorg=Prefeitura%20Municipal%20de%20Buritis&cnpj=18125146000129&tpformpdf=49&ano=2020&mes=11&idorg=104&titulo=Receitas&dsufe=Estado%20de%20Minas%20Gerais&nome_mat=1&nao_proventos=0&nao_descontos=0&xts=0', 'receitas')\n",
    "        \n",
    "        \n",
    "       ]\n",
    "\n",
    "stopwords = nltk.corpus.stopwords.words('portuguese')"
   ]
  },
  {
   "cell_type": "markdown",
   "metadata": {},
   "source": [
    "## Extração de texto das páginas"
   ]
  },
  {
   "cell_type": "code",
   "execution_count": 14,
   "metadata": {},
   "outputs": [],
   "source": [
    "from selenium import webdriver\n",
    "from selenium.webdriver.chrome.options import Options\n",
    "\n",
    "options = Options()\n",
    "options.add_argument(\"--disable-notifications\")\n",
    "options.add_argument(\"--disable-popup-blocking\")\n",
    "options.add_argument(\"--disable-web-security\")\n",
    "#options.add_argument('--headless')\n",
    "\n",
    "\n",
    "def extrairTexto(url):\n",
    "\n",
    "    driver = webdriver.Chrome(options=options)\n",
    "    driver.get(url)\n",
    "    urllib3.disable_warnings(urllib3.exceptions.InsecureRequestWarning)\n",
    "    \n",
    "    try:\n",
    "        soup = BeautifulSoup(driver.page_source, \"lxml\")\n",
    "        \n",
    "        for tags in soup(['script', 'style']):\n",
    "            tags.decompose\n",
    "            \n",
    "        driver.close()\n",
    "        \n",
    "        return ' '. join(soup.stripped_strings)\n",
    "        \n",
    "    except:\n",
    "        print(\"Erro ao tentar abrir a pagina: \" + url)\n",
    "    "
   ]
  },
  {
   "cell_type": "markdown",
   "metadata": {},
   "source": [
    "## Pré-processamento e extração de features"
   ]
  },
  {
   "cell_type": "code",
   "execution_count": 72,
   "metadata": {},
   "outputs": [],
   "source": [
    "def processamentoInicial(urls):\n",
    "    \n",
    "    paginas = []\n",
    "    stemmer = nltk.stem.RSLPStemmer()\n",
    "    \n",
    "    for (link, subtag) in urls:\n",
    "        texto = extrairTexto(link)\n",
    "        texto_processado = [str(stemmer.stem(palavra)) for palavra in texto.split() if palavra not in stopwords \n",
    "                            and len(palavra) > 2 and palavra.isalpha()]\n",
    "        paginas.append((texto_processado, subtag))\n",
    "        \n",
    "    return paginas\n"
   ]
  },
  {
   "cell_type": "code",
   "execution_count": null,
   "metadata": {},
   "outputs": [],
   "source": [
    "paginas = processamentoInicial(base)"
   ]
  },
  {
   "cell_type": "code",
   "execution_count": null,
   "metadata": {},
   "outputs": [],
   "source": [
    "paginas"
   ]
  },
  {
   "cell_type": "code",
   "execution_count": null,
   "metadata": {},
   "outputs": [],
   "source": [
    "def buscarPalavras(paginas):\n",
    "    \n",
    "    todasPalavras = []\n",
    "    \n",
    "    for (palavras, _) in paginas:\n",
    "        todasPalavras.extend(palavras)\n",
    "    \n",
    "    return todasPalavras\n"
   ]
  },
  {
   "cell_type": "code",
   "execution_count": null,
   "metadata": {},
   "outputs": [],
   "source": [
    "palavras = buscarPalavras(paginas)\n",
    "print(palavras)"
   ]
  },
  {
   "cell_type": "code",
   "execution_count": 55,
   "metadata": {},
   "outputs": [],
   "source": [
    "def gerarFrequencia(palavras):\n",
    "    \n",
    "    frequencia = nltk.FreqDist(palavras)\n",
    "    \n",
    "    return frequencia"
   ]
  },
  {
   "cell_type": "code",
   "execution_count": 56,
   "metadata": {},
   "outputs": [
    {
     "name": "stdout",
     "output_type": "stream",
     "text": [
      "[('entr', 248), ('ltd', 234), ('orçamentár', 102), ('receit', 83), ('desp', 71), ('port', 70), ('pessoal', 69), ('contrat', 69), ('document', 57), ('solicit', 56), ('cont', 52), ('eirel', 51), ('municip', 47), ('transfer', 46), ('pag', 44), ('públic', 44), ('rest', 43), ('licit', 43), ('silv', 40), ('prefeit', 36), ('edit', 36), ('consult', 35), ('transpar', 34), ('iníci', 34), ('diár', 34), ('reembols', 34), ('ata', 34), ('adit', 34), ('comerci', 33), ('filtr', 32), ('souz', 29), ('serviç', 28), ('civil', 27), ('dispens', 24), ('inexigibil', 23), ('est', 23), ('centr', 23), ('aracitab', 22), ('dad', 22), ('epp', 22), ('exercíci', 21), ('cnpj', 20), ('tod', 20), ('ano', 20), ('nacion', 18), ('dat', 18), ('oliv', 18), ('ferr', 18), ('login', 17), ('sum', 17)]\n"
     ]
    }
   ],
   "source": [
    "frequencia = gerarFrequencia(palavras)\n",
    "print(frequencia.most_common(50))"
   ]
  },
  {
   "cell_type": "code",
   "execution_count": 57,
   "metadata": {},
   "outputs": [],
   "source": [
    "def extrairPalavrasUnicas(frequencias):\n",
    "    \n",
    "    palavras = frequencia.keys()\n",
    "    \n",
    "    return palavras"
   ]
  },
  {
   "cell_type": "code",
   "execution_count": 58,
   "metadata": {},
   "outputs": [
    {
     "name": "stdout",
     "output_type": "stream",
     "text": [
      "port\n",
      "transpar\n",
      "dispens\n",
      "incis\n"
     ]
    }
   ],
   "source": [
    "palavras_unicas = extrairPalavrasUnicas(frequencia)\n",
    "\n",
    "for i in range(4):\n",
    "    print(list(palavras_unicas)[i])"
   ]
  },
  {
   "cell_type": "code",
   "execution_count": 59,
   "metadata": {},
   "outputs": [],
   "source": [
    "def extrairPalavras(texto):\n",
    "    \n",
    "    texto_sem_repeticao = set(texto)\n",
    "    caracteristicas = {}\n",
    "    \n",
    "    for palavra in palavras_unicas:\n",
    "        caracteristicas['%s' % palavra] = (palavra in texto_sem_repeticao)\n",
    "        \n",
    "    return caracteristicas"
   ]
  },
  {
   "cell_type": "code",
   "execution_count": 60,
   "metadata": {},
   "outputs": [],
   "source": [
    "baseCompleta = nltk.classify.apply_features(extrairPalavras, paginas)"
   ]
  },
  {
   "cell_type": "code",
   "execution_count": 61,
   "metadata": {},
   "outputs": [
    {
     "data": {
      "text/plain": [
       "[({'port': True, 'transpar': True, 'dispens': True, 'incis': True, 'login': True, 'prefeit': True, 'municip': True, 'aracitab': True, 'iníci': True, 'consult': True, 'receit': True, 'orçamentár': True, 'transfer': True, 'desp': True, 'rest': True, 'pag': True, 'diár': True, 'solicit': True, 'reembols': True, 'pessoal': True, 'licit': True, 'contrat': True, 'edit': True, 'ata': True, 'adit': True, 'inexigibil': True, 'cont': True, 'públic': True, 'document': True, 'transmiss': True, 'mandat': True, 'sum': True, 'term': True, 'link': True, 'est': True, 'nacion': True, 'fal': True, 'conosc': True, 'acessibil': True, 'dad': True, 'atual': True, 'convit': True, 'acess': True, 'tom': True, 'preç': True, 'concorr': True, 'preg': True, 'presenc': True, 'eletrôn': True, 'ades': True, 'registr': True, 'entr': True, 'cnpj': True, 'prac': True, 'bara': True, 'mont': True, 'centr': True, 'filtr': False, 'exercíci': False, 'natur': False, 'proced': False, 'agricult': False, 'famili': False, 'por': False, 'credenc': False, 'leilã': False, 'comum': False, 'unidad': False, 'tod': False, 'gest': False, 'gabinet': False, 'fund': False, 'assistenc': False, 'soc': False, 'saud': False, 'preserv': False, 'secret': False, 'sane': False, 'administr': False, 'assist': False, 'laz': False, 'tur': False, 'obr': False, 'serviç': False, 'subun': False, 'objet': False, 'engenh': False, 'compr': False, 'outr': False, 'loc': False, 'imóvel': False, 'concess': False, 'permiss': False, 'alien': False, 'bem': False, 'statu': False, 'abert': False, 'adjudic': False, 'cancel': False, 'final': False, 'homolog': False, 'julg': False, 'ratific': False, 'desert': False, 'encerr': False, 'fracass': False, 'suspens': False, 'númer': False, 'process': False, 'dat': False, 'habilit': False, 'propost': False, 'inic': False, 'utiliz': False, 'opç': False, 'visual': False, 'ano': False, 'modal': False, 'total': False, 'assinat': False, 'vig': False, 'nom': False, 'aut': False, 'peç': False, 'pneu': False, 'eirell': False, 'accop': False, 'medic': False, 'ltd': False, 'aci': False, 'comerci': False, 'eirel': False, 'adem': False, 'resend': False, 'pimentel': False, 'adend': False, 'empresar': False, 'saúd': False, 'adm': False, 'assess': False, 'desenvolv': False, 'maquin': False, 'agricol': False, 'agnald': False, 'rodrig': False, 'carm': False, 'card': False, 'agnel': False, 'sad': False, 'sociedad': False, 'advog': False, 'agrocarl': False, 'ailton': False, 'goncalv': False, 'vian': False, 'alan': False, 'sobr': False, 'far': False, 'alexandr': False, 'aparec': False, 'mel': False, 'alex': False, 'fernand': False, 'arauj': False, 'ana': False, 'carolin': False, 'scoralick': False, 'pinh': False, 'andr': False, 'burg': False, 'mell': False, 'apec': False, 'veicul': False, 'fonsec': False, 'farmac': False, 'arcad': False, 'produt': False, 'odontolog': False, 'arttec': False, 'construç': False, 'ateli': False, 'conserv': False, 'restaur': False, 'cult': False, 'auc': False, 'merc': False, 'limit': False, 'banc': False, 'brad': False, 'belc': False, 'automo': False, 'bethan': False, 'serv': False, 'associ': False, 'bqmed': False, 'carl': False, 'nolasc': False, 'martim': False, 'vie': False, 'coimbr': False, 'castr': False, 'paiv': False, 'prest': False, 'médic': False, 'comerc': False, 'mor': False, 'lua': False, 'constru': False, 'mli': False, 'epp': False, 'consorci': False, 'intermunicip': False, 'multifinalitari': False, 'val': False, 'paraibun': False, 'cimp': False, 'cooper': False, 'trabalh': False, 'limp': False, 'copy': False, 'impres': False, 'copi': False, 'corpel': False, 'cconsultori': False, 'cristin': False, 'marc': False, 'silv': False, 'empreend': False, 'daniel': False, 'cantarin': False, 'oliv': False, 'cost': False, 'souz': False, 'darc': False, 'malt': False, 'carvalh': False, 'decon': False, 'construco': False, 'del': False, 'rey': False, 'equip': False, 'paul': False, 'digit': False, 'cent': False, 'comput': False, 'diog': False, 'camp': False, 'diplomat': False, 'promot': False, 'event': False, 'distribu': False, 'odontenov': False, 'odontol': False, 'mater': False, 'distrim': False, 'distrimix': False, 'dumont': False, 'imag': False, 'eax': False, 'projet': False, 'execuca': False, 'edson': False, 'luiz': False, 'toled': False, 'mei': False, 'edvald': False, 'pedr': False, 'ein': False, 'tecnolog': False, 'elian': False, 'ros': False, 'elisangel': False, 'emig': False, 'engetec': False, 'hospital': False, 'estev': False, 'balthaz': False, 'fabr': False, 'manilh': False, 'milh': False, 'branc': False, 'faf': False, 'ferr': False, 'salum': False, 'flav': False, 'andrad': False, 'guimara': False, 'francisc': False, 'afons': False, 'juini': False, 'donizett': False, 'gonçalv': False, 'arquitet': False, 'construroe': False, 'gabriel': False, 'bast': False, 'cia': False, 'gabriell': False, 'gent': False, 'segur': False, 'gerald': False, 'sodr': False, 'girofarm': False, 'gladston': False, 'antoni': False, 'rib': False, 'agropecu': False, 'veterin': False, 'gott': False, 'trein': False, 'gradi': False, 'ght': False, 'soluco': False, 'tecnog': False, 'health': False, 'clean': False, 'sant': False, 'luz': False, 'hetik': False, 'hilari': False, 'hilson': False, 'linck': False, 'homeriton': False, 'horizont': False, 'transport': False, 'logis': False, 'igarap': False, 'fort': False, 'comunicaca': False, 'inaclin': False, 'institut': False, 'analis': False, 'clin': False, 'mar': False, 'iot': False, 'ortoped': False, 'traumatolog': False, 'tech': False, 'pint': False, 'reform': False, 'jair': False, 'gom': False, 'jardim': False, 'com': False, 'art': False, 'jcm': False, 'jk': False, 'produç': False, 'joã': False, 'lin': False, 'jon': False, 'per': False, 'jorg': False, 'jos': False, 'alme': False, 'josé': False, 'olv': False, 'nev': False, 'rogéri': False, 'barbas': False, 'coelh': False, 'sodré': False, 'aruj': False, 'lazar': False, 'melquiad': False, 'leandr': False, 'lacerd': False, 'lindenberg': False, 'construca': False, 'urban': False, 'luc': False, 'lorenz': False, 'luci': False, 'amar': False, 'lucien': False, 'laur': False, 'martelet': False, 'lve': False, 'marcel': False, 'mend': False, 'daparec': False, 'borraj': False, 'da': False, 'batist': False, 'abr': False, 'etern': False, 'maurici': False, 'delg': False, 'sebastia': False, 'lop': False, 'med': False, 'medcoll': False, 'medicin': False, 'educaca': False, 'medh': False, 'ultrassom': False, 'duart': False, 'bar': False, 'restaurant': False, 'merce': False, 'messias': False, 'michelly': False, 'pryscil': False, 'crescenci': False, 'lazzarin': False, 'min': False, 'mais': False, 'monger': False, 'aegon': False, 'previdenc': False, 'monic': False, 'graç': False, 'multiloc': False, 'terraplan': False, 'mund': False, 'do': False, 'utiloitari': False, 'autopeç': False, 'importaca': False, 'exportaca': False, 'artig': False, 'iluminaca': False, 'nanc': False, 'guilarducc': False, 'natal': False, 'leonidi': False, 'neuz': False, 'assil': False, 'nilton': False, 'ces': False, 'oficin': False, 'inez': False, 'marcu': False, 'vinic': False, 'espirit': False, 'drog': False, 'otavi': False, 'dia': False, 'matt': False, 'rom': False, 'henriqu': False, 'vianin': False, 'pedragon': False, 'planej': False, 'geral': False, 'prev': False, 'instal': False, 'contr': False, 'incendi': False, 'quartz': False, 'sonor': False, 'queil': False, 'rafael': False, 'yung': False, 'rdf': False, 'informa': False, 'rdfnet': False, 'telecomunicic': False, 'recap': False, 'felip': False, 'font': False, 'prat': False, 'reginald': False, 'silveri': False, 'dornel': False, 'forn': False, 'rio': False, 'doc': False, 'hospitl': False, 'robert': False, 'teix': False, 'advocac': False, 'ronald': False, 'freit': False, 'cruz': False, 'rosan': False, 'alf': False, 'rosangel': False, 'julia': False, 'artis': False, 'ruan': False, 'anastaci': False, 'saçç': False, 'fog': False, 'artifici': False, 'salv': False, 'sandr': False, 'govern': False, 'sur': False, 'xadr': False, 'escol': False, 'sk': False, 'tec': False, 'fundaco': False, 'smart': False, 'representaca': False, 'solang': False, 'otav': False, 'soluç': False, 'contável': False, 'lim': False, 'soniell': False, 'str': False, 'pec': False, 'sud': False, 'motor': False, 'retif': False, 'sustent': False, 'asess': False, 'publ': False, 'tav': False, 'tayn': False, 'industr': False, 'comérci': False, 'tecnofri': False, 'resfri': False, 'typv': False, 'graf': False, 'unia': False, 'recicla': False, 'nov': False, 'valm': False, 'pass': False, 'vanj': False, 'valeri': False, 'carroc': False, 'vért': False, 'vicent': False, 'vilel': False, 'waness': False, 'magalha': False, 'webasap': False, 'wesley': False, 'arturcamp': False, 'wilson': False, 'alenc': False, 'confecç': False, 'concurs': False, 'cruzil': False, 'convêni': False, 'bi': False, 'artíst': False, 'abak': False, 'etiquet': False, 'plac': False, 'aequu': False, 'econom': False, 'sistem': False, 'agr': False, 'emil': False, 'camarg': False, 'alfag': False, 'alfalag': False, 'alianç': False, 'alph': False, 'alta': False, 'alvar': False, 'amarild': False, 'andre': False, 'cpf': False, 'filh': False, 'arian': False, 'fat': False, 'alv': False, 'opcion': False, 'brind': False, 'pal': False, 'amig': False, 'excepc': False, 'espor': False, 'post': False, 'produco': False, 'bamaq': False, 'bandeiratn': False, 'bent': False, 'valéri': False, 'rezend': False, 'miguel': False, 'angel': False, 'altom': False, 'jesu': False, 'brasilux': False, 'ind': False, 'brauli': False, 'autom': False, 'brge': False, 'topograf': False, 'brun': False, 'ferre': False, 'caned': False, 'lubrific': False, 'cantu': False, 'pneuma': False, 'cass': False, 'pav': False, 'cedr': False, 'pedagóg': False, 'cian': False, 'cint': False, 'ar': False, 'furt': False, 'cirurg': False, 'claudet': False, 'gorgulh': False, 'cmac': False, 'prestaca': False, 'companh': False, 'cor': False, 'studi': False, 'gráf': False, 'conciv': False, 'cfc': False, 'controll': False, 'convicsom': False, 'instrument': False, 'credit': False, 'sul': False, 'sicoob': False, 'condu': False, 'veícul': False, 'cristian': False, 'cygnu': False, 'confecco': False, 'daian': False, 'noronh': False, 'datamed': False, 'dav': False, 'laboratóri': False, 'anális': False, 'clín': False, 'maciel': False, 'days': False, 'fagund': False, 'figueired': False, 'dedetiz': False, 'caxambu': False, 'delcilen': False, 'corre': False, 'diagnost': False, 'dim': False, 'fulgenci': False, 'dimipel': False, 'cienfueg': False, 'show': False, 'pirotecn': False, 'odontológ': False, 'paranh': False, 'par': False, 'ecolog': False, 'gesta': False, 'edmund': False, 'siqu': False, 'edn': False, 'jacint': False, 'vel': False, 'elyon': False, 'equilíbri': False, 'erivelton': False, 'roch': False, 'everald': False, 'ferrasul': False, 'ferrament': False, 'seguranç': False, 'florisvald': False, 'norbert': False, 'fredim': False, 'friodinox': False, 'garc': False, 'glob': False, 'lab': False, 'grantur': False, 'viag': False, 'recep': False, 'hudson': False, 'balbin': False, 'ideal': False, 'implement': False, 'máquin': False, 'agrícol': False, 'imprens': False, 'infolab': False, 'infolock': False, 'papel': False, 'pres': False, 'ipi': False, 'mobil': False, 'corpor': False, 'irm': False, 'irma': False, 'massaf': False, 'janeild': False, 'galva': False, 'jefferson': False, 'michael': False, 'joa': False, 'alvareng': False, 'joaquim': False, 'nun': False, 'lombard': False, 'bern': False, 'boldin': False, 'dilson': False, 'junc': False, 'jrw': False, 'karin': False, 'kolplast': False, 'laboratori': False, 'tafur': False, 'patolog': False, 'shopping': False, 'lar': False, 'dadd': False, 'leon': False, 'nutric': False, 'bach': False, 'lored': False, 'lúc': False, 'helen': False, 'scian': False, 'cunh': False, 'luil': False, 'crab': False, 'maa': False, 'vald': False, 'marci': False, 'donizet': False, 'felix': False, 'marcrisant': False, 'eduard': False, 'lucíl': False, 'mariluc': False, 'marj': False, 'tint': False, 'megamaquin': False, 'mfm': False, 'exat': False, 'contavel': False, 'diet': False, 'mir': False, 'barc': False, 'moem': False, 'monument': False, 'mora': False, 'concret': False, 'nagen': False, 'nilvan': False, 'noz': False, 'energ': False, 'obalal': False, 'edico': False, 'duty': False, 'mobiliari': False, 'orl': False, 'osvald': False, 'copysul': False, 'patric': False, 'trinquinat': False, 'pavican': False, 'pavimentaca': False, 'terraplen': False, 'eymard': False, 'pharmanutr': False, 'pneusul': False, 'march': False, 'printec': False, 'impress': False, 'real': False, 'rfp': False, 'robison': False, 'camil': False, 'barr': False, 'damascen': False, 'rosalv': False, 'rosilen': False, 'rovild': False, 'servuç': False, 'tra': False, 'sebast': False, 'barb': False, 'cas': False, 'civil': False, 'relaç': False, 'seven': False, 'sicotran': False, 'sinal': False, 'ultravis': False, 'vist': False, 'sôn': False, 'pressat': False, 'contábel': False, 'tain': False, 'techosp': False, 'vend': False, 'técn': False, 'telefôn': False, 'brasil': False, 'terês': False, 'prud': False, 'ub': False, 'vanderson': False, 'vaness': False, 'leo': False, 'vigilarm': False, 'monitor': False, 'viníc': False, 'magalh': False, 'wagn': False, 'wal': False, 'stor': False, 'telecomunic': False, 'whit': False, 'eagl': False, 'gás': False, 'saur': False, 'xandr': False, 'prestaco': False, 'zangrand': False, 'rua': False, 'cornéli': False, 'long': False, 'aca': False, 'comunit': False, 'acessu': False, 'avali': False, 'imovel': False, 'xavi': False, 'adili': False, 'adilson': False, 'land': False, 'adri': False, 'sal': False, 'assunç': False, 'amel': False, 'arcanj': False, 'azed': False, 'ang': False, 'atanazi': False, 'garavin': False, 'carn': False, 'wellington': False, 'autoc': False, 'aces': False, 'belabru': False, 'representaco': False, 'reil': False, 'carbel': False, 'claudi': False, 'alvim': False, 'cariac': False, 'multimod': False, 'massensin': False, 'promoesc': False, 'conceit': False, 'uso': False, 'so': False, 'vifran': False, 'contemporane': False, 'informá': False, 'copmay': False, 'copres': False, 'cot': False, 'magalhç': False, 'cristi': False, 'cuid': False, 'integr': False, 'dalil': False, 'delvanil': False, 'denis': False, 'barret': False, 'devanil': False, 'grac': False, 'dev': False, 'dfg': False, 'edinald': False, 'edm': False, 'elisi': False, 'souk': False, 'natalin': False, 'ewandd': False, 'guiciard': False, 'expert': False, 'fermaq': False, 'poç': False, 'artesi': False, 'flávi': False, 'franklin': False, 'conceica': False, 'juni': False, 'funer': False, 'paz': False, 'vid': False, 'ga': False, 'vit': False, 'geis': False, 'pont': False, 'genesil': False, 'terceirizaca': False, 'geopoc': False, 'poc': False, 'godofred': False, 'lan': False, 'iguaçu': False, 'gustav': False, 'guilherm': False, 'rabel': False, 'hamilton': False, 'hebert': False, 'cupertin': False, 'herbert': False, 'horaci': False, 'outsourcing': False, 'informatiz': False, 'inov': False, 'zuriel': False, 'capacit': False, 'public': False, 'itapoç': False, 'itab': False, 'nasc': False, 'contabil': False, 'bosc': False, 'pen': False, 'cels': False, 'perr': False, 'josel': False, 'raimund': False, 'venanci': False, 'jr': False, 'juli': False, 'kat': False, 'labshopping': False, 'diagnóst': False, 'lariss': False, 'torr': False, 'leal': False, 'ledd': False, 'comunic': False, 'leonard': False, 'lid': False, 'outdo': False, 'comunicaça': False, 'sanit': False, 'look': False, 'vision': False, 'estrut': False, 'louis': False, 'pediatr': False, 'madonn': False, 'ambi': False, 'curs': False, 'trindad': False, 'mast': False, 'maxmot': False, 'minasf': False, 'murad': False, 'mot': False, 'august': False, 'nayh': False, 'regin': False, 'ner': False, 'siti': False, 'odirs': False, 'meirel': False, 'odontotecn': False, 'ortodent': False, 'oxim': False, 'gas': False, 'pactu': False, 'sunt': False, 'servand': False, 'pad': False, 'confeit': False, 'ladislau': False, 'pilon': False, 'plassc': False, 'cole': False, 'florest': False, 'pontenet': False, 'teleinformá': False, 'cartori': False, 'alt': False, 'pontual': False, 'car': False, 'prim': False, 'nonat': False, 'faustin': False, 'red': False, 'cidad': False, 'rejan': False, 'cassi': False, 'vitalin': False, 'renat': False, 'senn': False, 'pizz': False, 'drumond': False, 'samuel': False, 'nicolau': False, 'solan': False, 'queiroz': False, 'delfim': False, 'instituc': False, 'seletr': False, 'eletrotecn': False, 'silvi': False, 'mach': False, 'quint': False, 'sinesi': False, 'rol': False, 'represent': False, 'terap': False, 'intens': False, 'audit': False, 'unipesso': False, 'amer': False, 'talism': False, 'music': False, 'tecmin': False, 'ter': False, 'thiag': False, 'tofel': False, 'tolentin': False, 'tow': False, 'cav': False, 'triton': False, 'assessóri': False, 'trivel': False, 'tropicald': False, 'valdec': False, 'cord': False, 'versatec': False, 'vinimax': False, 'artefat': False, 'plás': False, 'vital': False, 'wallac': False, 'webert': False, 'woltin': False, 'ynal': False, 'mat': False, 'moviment': False, 'emiss': False, 'fornec': False, 'tip': False, 'sald': False, 'caminh': False, 'plan': False, 'plurian': False, 'descr': False, 'não': False, 'dispon': False, 'menu': False, 'selecion': False, 'baix': False, 'lei': False, 'tamanh': False, 'respons': False, 'fiscal': False, 'relatóri': False, 'pod': False, 'execu': False, 'periodic': False, 'balanç': False, 'consolid': False, 'orçament': False, 'mê': False, 'cálcul': False, 'folh': False, 'cust': False, 'comission': False, 'ensin': False, 'fundament': False, 'pe': False, 'secretari': False, 'esf': False, 'bucal': False, 'aposent': False, 'inat': False, 'rural': False, 'comisson': False, 'tutel': False, 'constr': False, 'ref': False, 'atenç': False, 'basic': False, 'fundeb': False, 'infantil': False, 'cra': False, 'finanç': False, 'educ': False, 'ger': False, 'cemitéri': False, 'colet': False, 'lix': False, 'estr': False, 'vic': False, 'esgot': False, 'superi': False, 'epidemiológ': False, 'agent': False, 'farmác': False, 'urb': False, 'pension': False, 'subsidi': False, 'funç': False, 'assessor': False, 'aux': False, 'enferm': False, 'auxili': False, 'int': False, 'ext': False, 'chef': False, 'conselh': False, 'control': False, 'intern': False, 'coorden': False, 'supervis': False, 'ome': False, 'cov': False, 'dent': False, 'dir': False, 'dep': False, 'mun': False, 'rec': False, 'hum': False, 'pess': False, 'fisioterapeut': False, 'fonoaudiolog': False, 'nutr': False, 'ofic': False, 'especializ': False, 'oper': False, 'operari': False, 'profes': False, 'psicolog': False, 'regent': False, 'sec': False, 'supervi': False, 'pedagog': False, 'tecn': False, 'educac': False, 'víncul': False, 'efet': False, 'polít': False, 'tempor': False, 'remuner': False, 'matrícul': False, 'lot': False, 'brut': False, 'nest': False, 'jan': False, 'fever': False, 'març': False, 'abril': False, 'mai': False, 'junh': False, 'recurs': False, 'financ': False, 'demal': False, 'uni': False, 'previst': False, 'arrecad': False, 'acumul': False}, 'licitacoes'), ({'port': True, 'transpar': True, 'dispens': True, 'incis': False, 'login': True, 'prefeit': True, 'municip': True, 'aracitab': True, 'iníci': True, 'consult': True, 'receit': True, 'orçamentár': True, 'transfer': True, 'desp': True, 'rest': True, 'pag': True, 'diár': True, 'solicit': True, 'reembols': True, 'pessoal': True, 'licit': True, 'contrat': True, 'edit': True, 'ata': True, 'adit': True, 'inexigibil': True, 'cont': True, 'públic': True, 'document': True, 'transmiss': True, 'mandat': True, 'sum': True, 'term': True, 'link': True, 'est': True, 'nacion': True, 'fal': True, 'conosc': True, 'acessibil': True, 'dad': True, 'atual': True, 'convit': False, 'acess': False, 'tom': False, 'preç': True, 'concorr': False, 'preg': True, 'presenc': True, 'eletrôn': False, 'ades': True, 'registr': True, 'entr': True, 'cnpj': True, 'prac': True, 'bara': True, 'mont': True, 'centr': True, 'filtr': True, 'exercíci': True, 'natur': True, 'proced': True, 'agricult': True, 'famili': True, 'por': True, 'credenc': True, 'leilã': True, 'comum': True, 'unidad': True, 'tod': True, 'gest': True, 'gabinet': True, 'fund': True, 'assistenc': True, 'soc': True, 'saud': True, 'preserv': True, 'secret': True, 'sane': True, 'administr': True, 'assist': True, 'laz': True, 'tur': True, 'obr': True, 'serviç': True, 'subun': True, 'objet': True, 'engenh': True, 'compr': True, 'outr': True, 'loc': True, 'imóvel': True, 'concess': True, 'permiss': True, 'alien': True, 'bem': True, 'statu': True, 'abert': True, 'adjudic': True, 'cancel': True, 'final': True, 'homolog': True, 'julg': True, 'ratific': True, 'desert': True, 'encerr': True, 'fracass': True, 'suspens': True, 'númer': True, 'process': True, 'dat': True, 'habilit': True, 'propost': True, 'inic': True, 'utiliz': True, 'opç': True, 'visual': True, 'ano': True, 'modal': True, 'total': True, 'assinat': False, 'vig': False, 'nom': False, 'aut': False, 'peç': False, 'pneu': False, 'eirell': False, 'accop': False, 'medic': False, 'ltd': False, 'aci': False, 'comerci': False, 'eirel': False, 'adem': False, 'resend': False, 'pimentel': False, 'adend': False, 'empresar': False, 'saúd': False, 'adm': False, 'assess': False, 'desenvolv': False, 'maquin': False, 'agricol': False, 'agnald': False, 'rodrig': False, 'carm': False, 'card': False, 'agnel': False, 'sad': False, 'sociedad': False, 'advog': False, 'agrocarl': False, 'ailton': False, 'goncalv': False, 'vian': False, 'alan': False, 'sobr': False, 'far': False, 'alexandr': False, 'aparec': False, 'mel': False, 'alex': False, 'fernand': False, 'arauj': False, 'ana': False, 'carolin': False, 'scoralick': False, 'pinh': False, 'andr': False, 'burg': False, 'mell': False, 'apec': False, 'veicul': False, 'fonsec': False, 'farmac': False, 'arcad': False, 'produt': False, 'odontolog': False, 'arttec': False, 'construç': False, 'ateli': False, 'conserv': False, 'restaur': False, 'cult': False, 'auc': False, 'merc': False, 'limit': False, 'banc': False, 'brad': False, 'belc': False, 'automo': False, 'bethan': False, 'serv': False, 'associ': False, 'bqmed': False, 'carl': False, 'nolasc': False, 'martim': False, 'vie': False, 'coimbr': False, 'castr': False, 'paiv': False, 'prest': False, 'médic': False, 'comerc': False, 'mor': False, 'lua': False, 'constru': False, 'mli': False, 'epp': False, 'consorci': False, 'intermunicip': False, 'multifinalitari': False, 'val': False, 'paraibun': False, 'cimp': False, 'cooper': False, 'trabalh': False, 'limp': False, 'copy': False, 'impres': False, 'copi': False, 'corpel': False, 'cconsultori': False, 'cristin': False, 'marc': False, 'silv': False, 'empreend': False, 'daniel': False, 'cantarin': False, 'oliv': False, 'cost': False, 'souz': False, 'darc': False, 'malt': False, 'carvalh': False, 'decon': False, 'construco': False, 'del': False, 'rey': False, 'equip': False, 'paul': False, 'digit': False, 'cent': False, 'comput': False, 'diog': False, 'camp': False, 'diplomat': False, 'promot': False, 'event': False, 'distribu': False, 'odontenov': False, 'odontol': False, 'mater': False, 'distrim': False, 'distrimix': False, 'dumont': False, 'imag': False, 'eax': False, 'projet': False, 'execuca': False, 'edson': False, 'luiz': False, 'toled': False, 'mei': False, 'edvald': False, 'pedr': False, 'ein': False, 'tecnolog': False, 'elian': False, 'ros': False, 'elisangel': False, 'emig': False, 'engetec': False, 'hospital': False, 'estev': False, 'balthaz': False, 'fabr': False, 'manilh': False, 'milh': False, 'branc': False, 'faf': False, 'ferr': False, 'salum': False, 'flav': False, 'andrad': False, 'guimara': False, 'francisc': False, 'afons': False, 'juini': False, 'donizett': False, 'gonçalv': False, 'arquitet': False, 'construroe': False, 'gabriel': False, 'bast': False, 'cia': False, 'gabriell': False, 'gent': False, 'segur': False, 'gerald': False, 'sodr': False, 'girofarm': False, 'gladston': False, 'antoni': False, 'rib': False, 'agropecu': False, 'veterin': False, 'gott': False, 'trein': False, 'gradi': False, 'ght': False, 'soluco': False, 'tecnog': False, 'health': False, 'clean': False, 'sant': False, 'luz': False, 'hetik': False, 'hilari': False, 'hilson': False, 'linck': False, 'homeriton': False, 'horizont': False, 'transport': False, 'logis': False, 'igarap': False, 'fort': False, 'comunicaca': False, 'inaclin': False, 'institut': False, 'analis': False, 'clin': False, 'mar': False, 'iot': False, 'ortoped': False, 'traumatolog': False, 'tech': False, 'pint': False, 'reform': False, 'jair': False, 'gom': False, 'jardim': False, 'com': False, 'art': False, 'jcm': False, 'jk': False, 'produç': False, 'joã': False, 'lin': False, 'jon': False, 'per': False, 'jorg': False, 'jos': False, 'alme': False, 'josé': False, 'olv': False, 'nev': False, 'rogéri': False, 'barbas': False, 'coelh': False, 'sodré': False, 'aruj': False, 'lazar': False, 'melquiad': False, 'leandr': False, 'lacerd': False, 'lindenberg': False, 'construca': False, 'urban': False, 'luc': False, 'lorenz': False, 'luci': False, 'amar': False, 'lucien': False, 'laur': False, 'martelet': False, 'lve': False, 'marcel': False, 'mend': False, 'daparec': False, 'borraj': False, 'da': False, 'batist': False, 'abr': False, 'etern': False, 'maurici': False, 'delg': False, 'sebastia': False, 'lop': False, 'med': False, 'medcoll': False, 'medicin': False, 'educaca': False, 'medh': False, 'ultrassom': False, 'duart': False, 'bar': False, 'restaurant': False, 'merce': False, 'messias': False, 'michelly': False, 'pryscil': False, 'crescenci': False, 'lazzarin': False, 'min': False, 'mais': False, 'monger': False, 'aegon': False, 'previdenc': False, 'monic': False, 'graç': False, 'multiloc': False, 'terraplan': False, 'mund': False, 'do': False, 'utiloitari': False, 'autopeç': False, 'importaca': False, 'exportaca': False, 'artig': False, 'iluminaca': False, 'nanc': False, 'guilarducc': False, 'natal': False, 'leonidi': False, 'neuz': False, 'assil': False, 'nilton': False, 'ces': False, 'oficin': False, 'inez': False, 'marcu': False, 'vinic': False, 'espirit': False, 'drog': False, 'otavi': False, 'dia': False, 'matt': False, 'rom': False, 'henriqu': False, 'vianin': False, 'pedragon': False, 'planej': False, 'geral': False, 'prev': False, 'instal': False, 'contr': False, 'incendi': False, 'quartz': False, 'sonor': False, 'queil': False, 'rafael': False, 'yung': False, 'rdf': False, 'informa': False, 'rdfnet': False, 'telecomunicic': False, 'recap': False, 'felip': False, 'font': False, 'prat': False, 'reginald': False, 'silveri': False, 'dornel': False, 'forn': False, 'rio': False, 'doc': False, 'hospitl': False, 'robert': False, 'teix': False, 'advocac': False, 'ronald': False, 'freit': False, 'cruz': False, 'rosan': False, 'alf': False, 'rosangel': False, 'julia': False, 'artis': False, 'ruan': False, 'anastaci': False, 'saçç': False, 'fog': False, 'artifici': False, 'salv': False, 'sandr': False, 'govern': False, 'sur': False, 'xadr': False, 'escol': False, 'sk': False, 'tec': False, 'fundaco': False, 'smart': False, 'representaca': False, 'solang': False, 'otav': False, 'soluç': False, 'contável': False, 'lim': False, 'soniell': False, 'str': False, 'pec': False, 'sud': False, 'motor': False, 'retif': False, 'sustent': False, 'asess': False, 'publ': False, 'tav': False, 'tayn': False, 'industr': False, 'comérci': False, 'tecnofri': False, 'resfri': False, 'typv': False, 'graf': False, 'unia': False, 'recicla': False, 'nov': False, 'valm': False, 'pass': False, 'vanj': False, 'valeri': False, 'carroc': False, 'vért': False, 'vicent': False, 'vilel': False, 'waness': False, 'magalha': False, 'webasap': False, 'wesley': False, 'arturcamp': False, 'wilson': False, 'alenc': False, 'confecç': False, 'concurs': False, 'cruzil': False, 'convêni': False, 'bi': False, 'artíst': False, 'abak': False, 'etiquet': False, 'plac': False, 'aequu': False, 'econom': False, 'sistem': False, 'agr': False, 'emil': False, 'camarg': False, 'alfag': False, 'alfalag': False, 'alianç': False, 'alph': False, 'alta': False, 'alvar': False, 'amarild': False, 'andre': False, 'cpf': False, 'filh': False, 'arian': False, 'fat': False, 'alv': False, 'opcion': False, 'brind': False, 'pal': False, 'amig': False, 'excepc': False, 'espor': False, 'post': False, 'produco': False, 'bamaq': False, 'bandeiratn': False, 'bent': False, 'valéri': False, 'rezend': False, 'miguel': False, 'angel': False, 'altom': False, 'jesu': False, 'brasilux': False, 'ind': False, 'brauli': False, 'autom': False, 'brge': False, 'topograf': False, 'brun': False, 'ferre': False, 'caned': False, 'lubrific': False, 'cantu': False, 'pneuma': False, 'cass': False, 'pav': False, 'cedr': False, 'pedagóg': False, 'cian': False, 'cint': False, 'ar': False, 'furt': False, 'cirurg': False, 'claudet': False, 'gorgulh': False, 'cmac': False, 'prestaca': False, 'companh': False, 'cor': False, 'studi': False, 'gráf': False, 'conciv': False, 'cfc': False, 'controll': False, 'convicsom': False, 'instrument': False, 'credit': False, 'sul': False, 'sicoob': False, 'condu': False, 'veícul': False, 'cristian': False, 'cygnu': False, 'confecco': False, 'daian': False, 'noronh': False, 'datamed': False, 'dav': False, 'laboratóri': False, 'anális': False, 'clín': False, 'maciel': False, 'days': False, 'fagund': False, 'figueired': False, 'dedetiz': False, 'caxambu': False, 'delcilen': False, 'corre': False, 'diagnost': False, 'dim': False, 'fulgenci': False, 'dimipel': False, 'cienfueg': False, 'show': False, 'pirotecn': False, 'odontológ': False, 'paranh': False, 'par': False, 'ecolog': False, 'gesta': False, 'edmund': False, 'siqu': False, 'edn': False, 'jacint': False, 'vel': False, 'elyon': False, 'equilíbri': False, 'erivelton': False, 'roch': False, 'everald': False, 'ferrasul': False, 'ferrament': False, 'seguranç': False, 'florisvald': False, 'norbert': False, 'fredim': False, 'friodinox': False, 'garc': False, 'glob': False, 'lab': False, 'grantur': False, 'viag': False, 'recep': False, 'hudson': False, 'balbin': False, 'ideal': False, 'implement': False, 'máquin': False, 'agrícol': False, 'imprens': False, 'infolab': False, 'infolock': False, 'papel': False, 'pres': False, 'ipi': False, 'mobil': False, 'corpor': False, 'irm': False, 'irma': False, 'massaf': False, 'janeild': False, 'galva': False, 'jefferson': False, 'michael': False, 'joa': False, 'alvareng': False, 'joaquim': False, 'nun': False, 'lombard': False, 'bern': False, 'boldin': False, 'dilson': False, 'junc': False, 'jrw': False, 'karin': False, 'kolplast': False, 'laboratori': False, 'tafur': False, 'patolog': False, 'shopping': False, 'lar': False, 'dadd': False, 'leon': False, 'nutric': False, 'bach': False, 'lored': False, 'lúc': False, 'helen': False, 'scian': False, 'cunh': False, 'luil': False, 'crab': False, 'maa': False, 'vald': False, 'marci': False, 'donizet': False, 'felix': False, 'marcrisant': False, 'eduard': False, 'lucíl': False, 'mariluc': False, 'marj': False, 'tint': False, 'megamaquin': False, 'mfm': False, 'exat': False, 'contavel': False, 'diet': False, 'mir': False, 'barc': False, 'moem': False, 'monument': False, 'mora': False, 'concret': False, 'nagen': False, 'nilvan': False, 'noz': False, 'energ': False, 'obalal': False, 'edico': False, 'duty': False, 'mobiliari': False, 'orl': False, 'osvald': False, 'copysul': False, 'patric': False, 'trinquinat': False, 'pavican': False, 'pavimentaca': False, 'terraplen': False, 'eymard': False, 'pharmanutr': False, 'pneusul': False, 'march': False, 'printec': False, 'impress': False, 'real': False, 'rfp': False, 'robison': False, 'camil': False, 'barr': False, 'damascen': False, 'rosalv': False, 'rosilen': False, 'rovild': False, 'servuç': False, 'tra': False, 'sebast': False, 'barb': False, 'cas': False, 'civil': False, 'relaç': False, 'seven': False, 'sicotran': False, 'sinal': False, 'ultravis': False, 'vist': False, 'sôn': False, 'pressat': False, 'contábel': False, 'tain': False, 'techosp': False, 'vend': False, 'técn': False, 'telefôn': False, 'brasil': False, 'terês': False, 'prud': False, 'ub': False, 'vanderson': False, 'vaness': False, 'leo': False, 'vigilarm': False, 'monitor': False, 'viníc': False, 'magalh': False, 'wagn': False, 'wal': False, 'stor': False, 'telecomunic': False, 'whit': False, 'eagl': False, 'gás': False, 'saur': False, 'xandr': False, 'prestaco': False, 'zangrand': False, 'rua': False, 'cornéli': False, 'long': False, 'aca': False, 'comunit': False, 'acessu': False, 'avali': False, 'imovel': False, 'xavi': False, 'adili': False, 'adilson': False, 'land': False, 'adri': False, 'sal': False, 'assunç': False, 'amel': False, 'arcanj': False, 'azed': False, 'ang': False, 'atanazi': False, 'garavin': False, 'carn': False, 'wellington': False, 'autoc': False, 'aces': False, 'belabru': False, 'representaco': False, 'reil': False, 'carbel': False, 'claudi': False, 'alvim': False, 'cariac': False, 'multimod': False, 'massensin': False, 'promoesc': False, 'conceit': False, 'uso': False, 'so': False, 'vifran': False, 'contemporane': False, 'informá': False, 'copmay': False, 'copres': False, 'cot': False, 'magalhç': False, 'cristi': False, 'cuid': False, 'integr': False, 'dalil': False, 'delvanil': False, 'denis': False, 'barret': False, 'devanil': False, 'grac': False, 'dev': False, 'dfg': False, 'edinald': False, 'edm': False, 'elisi': False, 'souk': False, 'natalin': False, 'ewandd': False, 'guiciard': False, 'expert': False, 'fermaq': False, 'poç': False, 'artesi': False, 'flávi': False, 'franklin': False, 'conceica': False, 'juni': False, 'funer': False, 'paz': False, 'vid': False, 'ga': False, 'vit': False, 'geis': False, 'pont': False, 'genesil': False, 'terceirizaca': False, 'geopoc': False, 'poc': False, 'godofred': False, 'lan': False, 'iguaçu': False, 'gustav': False, 'guilherm': False, 'rabel': False, 'hamilton': False, 'hebert': False, 'cupertin': False, 'herbert': False, 'horaci': False, 'outsourcing': False, 'informatiz': False, 'inov': False, 'zuriel': False, 'capacit': False, 'public': False, 'itapoç': False, 'itab': False, 'nasc': False, 'contabil': False, 'bosc': False, 'pen': False, 'cels': False, 'perr': False, 'josel': False, 'raimund': False, 'venanci': False, 'jr': False, 'juli': False, 'kat': False, 'labshopping': False, 'diagnóst': False, 'lariss': False, 'torr': False, 'leal': False, 'ledd': False, 'comunic': False, 'leonard': False, 'lid': False, 'outdo': False, 'comunicaça': False, 'sanit': False, 'look': False, 'vision': False, 'estrut': False, 'louis': False, 'pediatr': False, 'madonn': False, 'ambi': False, 'curs': False, 'trindad': False, 'mast': False, 'maxmot': False, 'minasf': False, 'murad': False, 'mot': False, 'august': False, 'nayh': False, 'regin': False, 'ner': False, 'siti': False, 'odirs': False, 'meirel': False, 'odontotecn': False, 'ortodent': False, 'oxim': False, 'gas': False, 'pactu': False, 'sunt': False, 'servand': False, 'pad': False, 'confeit': False, 'ladislau': False, 'pilon': False, 'plassc': False, 'cole': False, 'florest': False, 'pontenet': False, 'teleinformá': False, 'cartori': False, 'alt': False, 'pontual': False, 'car': False, 'prim': False, 'nonat': False, 'faustin': False, 'red': False, 'cidad': False, 'rejan': False, 'cassi': False, 'vitalin': False, 'renat': False, 'senn': False, 'pizz': False, 'drumond': False, 'samuel': False, 'nicolau': False, 'solan': False, 'queiroz': False, 'delfim': False, 'instituc': False, 'seletr': False, 'eletrotecn': False, 'silvi': False, 'mach': False, 'quint': False, 'sinesi': False, 'rol': False, 'represent': False, 'terap': False, 'intens': False, 'audit': False, 'unipesso': False, 'amer': False, 'talism': False, 'music': False, 'tecmin': False, 'ter': False, 'thiag': False, 'tofel': False, 'tolentin': False, 'tow': False, 'cav': False, 'triton': False, 'assessóri': False, 'trivel': False, 'tropicald': False, 'valdec': False, 'cord': False, 'versatec': False, 'vinimax': False, 'artefat': False, 'plás': False, 'vital': False, 'wallac': False, 'webert': False, 'woltin': False, 'ynal': False, 'mat': False, 'moviment': False, 'emiss': False, 'fornec': False, 'tip': False, 'sald': False, 'caminh': False, 'plan': False, 'plurian': False, 'descr': False, 'não': False, 'dispon': False, 'menu': False, 'selecion': False, 'baix': False, 'lei': False, 'tamanh': False, 'respons': False, 'fiscal': False, 'relatóri': False, 'pod': False, 'execu': False, 'periodic': False, 'balanç': False, 'consolid': False, 'orçament': False, 'mê': False, 'cálcul': False, 'folh': False, 'cust': False, 'comission': False, 'ensin': False, 'fundament': False, 'pe': False, 'secretari': False, 'esf': False, 'bucal': False, 'aposent': False, 'inat': False, 'rural': False, 'comisson': False, 'tutel': False, 'constr': False, 'ref': False, 'atenç': False, 'basic': False, 'fundeb': False, 'infantil': False, 'cra': False, 'finanç': False, 'educ': False, 'ger': False, 'cemitéri': False, 'colet': False, 'lix': False, 'estr': False, 'vic': False, 'esgot': False, 'superi': False, 'epidemiológ': False, 'agent': False, 'farmác': False, 'urb': False, 'pension': False, 'subsidi': False, 'funç': False, 'assessor': False, 'aux': False, 'enferm': False, 'auxili': False, 'int': False, 'ext': False, 'chef': False, 'conselh': False, 'control': False, 'intern': False, 'coorden': False, 'supervis': False, 'ome': False, 'cov': False, 'dent': False, 'dir': False, 'dep': False, 'mun': False, 'rec': False, 'hum': False, 'pess': False, 'fisioterapeut': False, 'fonoaudiolog': False, 'nutr': False, 'ofic': False, 'especializ': False, 'oper': False, 'operari': False, 'profes': False, 'psicolog': False, 'regent': False, 'sec': False, 'supervi': False, 'pedagog': False, 'tecn': False, 'educac': False, 'víncul': False, 'efet': False, 'polít': False, 'tempor': False, 'remuner': False, 'matrícul': False, 'lot': False, 'brut': False, 'nest': False, 'jan': False, 'fever': False, 'març': False, 'abril': False, 'mai': False, 'junh': False, 'recurs': False, 'financ': False, 'demal': False, 'uni': False, 'previst': False, 'arrecad': False, 'acumul': False}, 'licitacoes'), ...]"
      ]
     },
     "execution_count": 61,
     "metadata": {},
     "output_type": "execute_result"
    }
   ],
   "source": [
    "baseCompleta"
   ]
  },
  {
   "cell_type": "markdown",
   "metadata": {},
   "source": [
    "## Criação do classificador Naive Bayes"
   ]
  },
  {
   "cell_type": "code",
   "execution_count": 62,
   "metadata": {},
   "outputs": [],
   "source": [
    "classificador = nltk.NaiveBayesClassifier.train(baseCompleta)"
   ]
  },
  {
   "cell_type": "code",
   "execution_count": 63,
   "metadata": {},
   "outputs": [],
   "source": [
    "def classificarPagina(url):\n",
    "    \n",
    "    link = [(url, \"\")]\n",
    "    dados = processamentoInicial(link)\n",
    "    caracteristicas = extrairPalavras(dados[0][0])\n",
    "        \n",
    "    return classificador.classify(caracteristicas)"
   ]
  },
  {
   "cell_type": "code",
   "execution_count": 64,
   "metadata": {},
   "outputs": [
    {
     "data": {
      "text/plain": [
       "'despesas'"
      ]
     },
     "execution_count": 64,
     "metadata": {},
     "output_type": "execute_result"
    }
   ],
   "source": [
    "classificarPagina(\"https://pm-cristina.publicacao.siplanweb.com.br/contas-publicas/documento/73\")"
   ]
  }
 ],
 "metadata": {
  "kernelspec": {
   "display_name": "Python 3 (ipykernel)",
   "language": "python",
   "name": "python3"
  },
  "language_info": {
   "codemirror_mode": {
    "name": "ipython",
    "version": 3
   },
   "file_extension": ".py",
   "mimetype": "text/x-python",
   "name": "python",
   "nbconvert_exporter": "python",
   "pygments_lexer": "ipython3",
   "version": "3.12.3"
  }
 },
 "nbformat": 4,
 "nbformat_minor": 4
}
